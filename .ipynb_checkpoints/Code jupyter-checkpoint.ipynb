{
 "cells": [
  {
   "cell_type": "markdown",
   "id": "b632bc8e-16f9-46eb-a942-cde4dea75f2d",
   "metadata": {},
   "source": [
    "# A Finite Element Solution for a plate with MATLAB code."
   ]
  },
  {
   "cell_type": "markdown",
   "id": "f7559858-0ec6-43b3-bb7c-a8bfcacd0f8e",
   "metadata": {},
   "source": [
    "The problem is show in the figure 6-16. "
   ]
  },
  {
   "cell_type": "markdown",
   "id": "3431f56f-0699-4eee-a862-4d732e52ada4",
   "metadata": {},
   "source": [
    "![Figure 1](figure1.jpg)"
   ]
  },
  {
   "cell_type": "markdown",
   "id": "746f351a-33d5-477b-ae00-ae0f4c02675e",
   "metadata": {},
   "source": [
    "This problem is show in the chapter 6.5 of the book: *A firts Course in the Finite Element Method* written by Daryl L. Logan. In this \n",
    "chapter a solution is make by subdivided the plate in two CST. The purpose of this project is to make more divisions considering 400 CST and see the results. "
   ]
  },
  {
   "cell_type": "markdown",
   "id": "efd0322e-0c67-4674-85b4-88743fd57250",
   "metadata": {},
   "source": [
    "## Preprocesing "
   ]
  },
  {
   "cell_type": "code",
   "execution_count": 247,
   "id": "b0a4269a-6c74-447a-947b-8c5e8ce07c14",
   "metadata": {
    "lines_to_next_cell": 2
   },
   "outputs": [
    {
     "name": "stdout",
     "output_type": "stream",
     "text": [
      "\n"
     ]
    }
   ],
   "source": [
    "% Geometry definition \n",
    "\n",
    "%The mesh is divided in n_x*n_y squares, n_x division in the x direction and n_y divisions in the y direction. \n",
    "%At each rectangle the CST is generated joining the lower-left node with the upper-right node of the rectangle. \n",
    "\n",
    "t = 1; % in\n",
    "E = 30*10^6; %psi\n",
    "v = 0.3; \n",
    "n_x = 80; \n",
    "n_y = 80;\n",
    "x0 = 0;\n",
    "y0 = 0;\n",
    "x1 = 20;\n",
    "y1 = 10; \n",
    "x = linspace(x0,x1,n_x+1); \n",
    "y = linspace(y0,y1,n_y+1); \n",
    "%Surface Forces\n",
    "p = 1000;"
   ]
  },
  {
   "cell_type": "markdown",
   "id": "ec30e1fa-0e2a-4944-a666-e97e985b31c5",
   "metadata": {},
   "source": [
    "## Formulation and Assembly "
   ]
  },
  {
   "cell_type": "code",
   "execution_count": 248,
   "id": "0885c24f-a1a8-4694-98d4-bad0b0891aa2",
   "metadata": {},
   "outputs": [
    {
     "name": "stdout",
     "output_type": "stream",
     "text": [
      "\n"
     ]
    }
   ],
   "source": [
    "%Assembly \n",
    "\n",
    "%Numeration of nodes\n",
    "%This function enumerate the nodes from left to right starting in the coordinate (1,1)\n",
    "node_numeration = @(i,j) (j-1)*(n_x+1)+i; \n",
    "\n",
    "%Global matrix\n",
    "n_nodes = (n_x+1)*(n_y+1); \n",
    "ndfo = 2*n_nodes; \n",
    "K = sparse(ndfo,ndfo);\n",
    "\n",
    "%Vector of global displacements \n",
    "D = NaN(ndfo,1);\n",
    "%Vector of global Forces; \n",
    "Q = NaN(ndfo,1);\n",
    "\n",
    "%Surface force \n",
    "%The surface force is divided in each element so the force in each element is (p*L*t), then it is transmitted \n",
    "%to the nodes with the value (pLt/2) to each node. \n",
    "\n",
    "%Value of L\n",
    "%Because of the problem L es divided in the y direction \n",
    "L = (y1-y0)/n_y;\n",
    "sign_value = 1; % (-1) for comprension and (+1) for traction \n",
    "%Node force \n",
    "node_force = sign_value*p*L*t/2;\n",
    "\n",
    "%Assembly\n",
    "for i = 1:n_x\n",
    "    for j = 1:n_y\n",
    "        %Application of the boundary conditions \n",
    "        if i == 1\n",
    "            n0 = node_numeration(i,j);\n",
    "            dfo0 = [2*n0-1,2*n0];\n",
    "            d = [0;0];\n",
    "            D(dfo0) = d;\n",
    "            %Additionally:\n",
    "            if j == n_y\n",
    "               %node (1,j+1) \n",
    "               n1 = node_numeration(i,j+1);\n",
    "               dfo1 = [2*n1-1,2*n1]; \n",
    "               D(dfo1) = d;\n",
    "            end\n",
    "        end \n",
    "        \n",
    "        %Calculation of surface forces and assembly of the vector of global Forces \n",
    "        if i == n_x\n",
    "            n0 = node_numeration(i+1,j);\n",
    "            dfo0 = [2*n0-1,2*n0];\n",
    "            q = [node_force;0];\n",
    "            \n",
    "            if j == 1\n",
    "                Q(dfo0) = q;  \n",
    "            else \n",
    "                Q(dfo0) = 2*q;\n",
    "            end\n",
    "            \n",
    "            %Additionally:  \n",
    "            if j == n_y\n",
    "                %node (i+1,j+1)\n",
    "                n1 = node_numeration(i+1,j+1);\n",
    "                dfo1 = [2*n1-1,2*n1]; \n",
    "                Q(dfo1) = q;\n",
    "            end    \n",
    "        end\n",
    "        %Cero forces\n",
    "        \n",
    "        if (i>1)&&(i<=n_x)\n",
    "            n0 = node_numeration(i,j);\n",
    "            df0 = [2*n0-1,2*n0];\n",
    "            q = [0;0];\n",
    "            Q(df0) = q;\n",
    "        end\n",
    "        \n",
    "        %Additionally\n",
    "        if (i>1)&&(j == n_y)\n",
    "            n0 = node_numeration(i,j+1);\n",
    "            df0 = [2*n0-1,2*n0];\n",
    "            q = [0;0];\n",
    "            Q(df0) = q;\n",
    "        end\n",
    "        \n",
    "        %Calculation of local stiffness matrix and assembly to global stiffness matrix \n",
    "        %The local stiffness matrix was coded in the file: \"local_stiffness_matrix.m\"\n",
    "        %Local nodes transformed to global nodes numeration \n",
    "        n1 = node_numeration(i,j);\n",
    "        n2 = node_numeration(i+1,j);\n",
    "        n3 = node_numeration(i+1,j+1);\n",
    "        n4 = node_numeration(i,j+1); \n",
    "        \n",
    "        %Nodes coordinates\n",
    "        x1 = x(i); y1 = y(j);\n",
    "        x2 = x(i+1); y2 = y(j);\n",
    "        x3 = x(i+1); y3 = y(j+1);\n",
    "        x4 = x(i); y4 = y(j+1);\n",
    "        \n",
    "        %Triangle1: n1(x1,y1), n3(x3,y3), n4(x4,y4) \n",
    "        k1 = local_stiffness_matrix(x1,y1,x3,y3,x4,y4,E,v,t);\n",
    "        \n",
    "        %Degrees of freedom numeration \n",
    "        dfo1 = [2*n1-1,2*n1,2*n3-1,2*n3,2*n4-1,2*n4];\n",
    "        \n",
    "        %Assembly\n",
    "        K(dfo1,dfo1) = K(dfo1,dfo1) + k1;\n",
    "\n",
    "        %Triangle2: n1(x1,y1), n2(x2,y2), n3(x3,y3) \n",
    "        k2 = local_stiffness_matrix(x1,y1,x2,y2,x3,y3,E,v,t);\n",
    "        \n",
    "        %Degrees of freedom numeration \n",
    "        dfo2 = [2*n1-1,2*n1,2*n2-1,2*n2,2*n3-1,2*n3];\n",
    "        \n",
    "        %Assembly\n",
    "        K(dfo2,dfo2) = K(dfo2,dfo2) + k2;\n",
    "    end\n",
    "end"
   ]
  },
  {
   "cell_type": "markdown",
   "id": "73f77dc1-5253-47a3-99ae-d52cd37d96dd",
   "metadata": {},
   "source": [
    "## Solution of the equation Q = K*D"
   ]
  },
  {
   "cell_type": "code",
   "execution_count": 249,
   "id": "88398cbd-688d-4360-95ef-b21241863a96",
   "metadata": {},
   "outputs": [
    {
     "name": "stdout",
     "output_type": "stream",
     "text": [
      "\n"
     ]
    }
   ],
   "source": [
    "%We subdivided the matrices \n",
    "%u is used for unknown and k for known \n",
    "D_k_positions = find(~isnan(D)); %The displacements that are imposed\n",
    "D_u_positions = find(isnan(D)); %The displacements that we don't known\n",
    "\n",
    "K_uu = K(D_u_positions,D_u_positions);\n",
    "K_uk = K(D_u_positions,D_k_positions);\n",
    "K_kk = K(D_k_positions,D_k_positions);\n",
    "K_ku = K(D_k_positions,D_u_positions);\n",
    "\n",
    "D_u = D(D_u_positions);\n",
    "D_k = D(D_k_positions);\n",
    "Q_k = Q(D_u_positions);%Values of Q in the dfo where the displacements are not known \n",
    "\n",
    "D_u = K_uu\\(Q_k-K_uk*D_k);\n",
    "Q_u = K_kk*D_k+K_ku*D_u;\n",
    "\n",
    "D(D_u_positions) = D_u;\n",
    "Q(D_k_positions) = Q_u;"
   ]
  },
  {
   "cell_type": "markdown",
   "id": "76d2e0f9-6318-4b98-9334-71e85e55c443",
   "metadata": {},
   "source": [
    "## Graphics "
   ]
  },
  {
   "cell_type": "code",
   "execution_count": 250,
   "id": "c3c3186c-465a-41d1-9b85-96626fcb1f12",
   "metadata": {},
   "outputs": [
    {
     "name": "stdout",
     "output_type": "stream",
     "text": [
      "\n"
     ]
    },
    {
     "data": {
      "image/png": "[encoded data removed]",
      "text/plain": [
       "<IPython.core.display.Image object>"
      ]
     },
     "metadata": {},
     "output_type": "display_data"
    }
   ],
   "source": [
    "%Coordinates with displacements \n",
    "\n",
    "%Original Coordinates\n",
    "[X_grid,Y_grid] = meshgrid(x,y);\n",
    "X_grid_tra = X_grid';\n",
    "Y_grid_tra = Y_grid';\n",
    "x_points = X_grid_tra(:);\n",
    "y_points = Y_grid_tra(:);\n",
    "%Displacements of u for x with corresponds to the odd dfos and v for y with even dfos. \n",
    "u = D(1:2:end);\n",
    "v = D(2:2:end);\n",
    "displacement_scale = 1000;%to diferentiate te results\n",
    "\n",
    "%Displacements in x and y \n",
    "x_displaced = x_points +u*displacement_scale;\n",
    "y_displaced = y_points +v*displacement_scale;\n",
    "\n",
    "%Figures \n",
    "figure;\n",
    "hold on; \n",
    "% puntos originales y desplazados\n",
    "plot(X_grid(:), Y_grid(:), 'bo', 'MarkerFaceColor', 'b');\n",
    "plot(x_displaced, y_displaced, 'ro', 'MarkerFaceColor', 'r');\n",
    "hold off; \n",
    "title('Original Grid vs Deformed Grid');\n",
    "xlabel('X coordinates');\n",
    "ylabel('Y coordinates');\n",
    "legend('Original nodes','Deformed nodes');\n",
    "note = sprintf('Displacement scale: %d', displacement_scale);\n",
    "annotation('textbox', [0.1, 0.05, 0.8, 0.05], 'String', note);"
   ]
  },
  {
   "cell_type": "code",
   "execution_count": 134,
   "id": "fa83ac93-769d-472f-a359-5f63be1563a8",
   "metadata": {},
   "outputs": [
    {
     "name": "stdout",
     "output_type": "stream",
     "text": [
      " \n",
      "x_Q =\n",
      " \n",
      "Empty sym: 0-by-1\n",
      " \n",
      " \n",
      "y_D =\n",
      " \n",
      "Empty sym: 0-by-1\n",
      " \n",
      "\n",
      "D =\n",
      "\n",
      "   1.0e-03 *\n",
      "\n",
      "         0\n",
      "         0\n",
      "   -0.6637\n",
      "   -0.1041\n",
      "         0\n",
      "         0\n",
      "   -0.6096\n",
      "   -0.0042\n",
      "\n",
      "\n"
     ]
    }
   ],
   "source": [
    "%{%Replacing the NaN for incognites \n",
    "%Identification of the values that are NaN in the code\n",
    "[x_nan_Q] = find(isnan(Q));\n",
    "[y_nan_D] = find(isnan(D));\n",
    "%Creating the incognites\n",
    "%in Q: \n",
    "x_Q = sym(zeros(length(x_nan_Q),1));\n",
    "for i = 1:length(x_nan_Q)\n",
    "    x_Q(i) = sym(sprintf('Q%d',x_nan_Q(i)));\n",
    "end\n",
    "%in D:\n",
    "y_D = sym(zeros(length(y_nan_D),1));\n",
    "for i = 1:length(y_nan_D)\n",
    "    y_D(i) = sym(sprintf('D%d',y_nan_D(i)));\n",
    "end\n",
    "x_Q\n",
    "y_D\n",
    "%}\n",
    "\n",
    "%{K = full(K);\n",
    "miOrdenColumnas = [1 2 5 6 7 8 3 4];\n",
    "miOrdenFilas = [1 2 5 6 7 8 3 4];\n",
    "K = K(miOrdenFilas, miOrdenColumnas);\n",
    "K = K*(0.91/375000);\n",
    "K;\n",
    "%}\n",
    "D"
   ]
  },
  {
   "cell_type": "code",
   "execution_count": null,
   "id": "87bbc4ca-8910-49f9-8c63-14164584a2dc",
   "metadata": {},
   "outputs": [],
   "source": []
  }
 ],
 "metadata": {
  "jupytext": {
   "formats": "ipynb,m:percent"
  },
  "kernelspec": {
   "display_name": "Matlab",
   "language": "matlab",
   "name": "matlab"
  },
  "language_info": {
   "codemirror_mode": "octave",
   "file_extension": ".m",
   "help_links": [
    {
     "text": "MetaKernel Magics",
     "url": "https://metakernel.readthedocs.io/en/latest/source/README.html"
    }
   ],
   "mimetype": "text/x-octave",
   "name": "matlab",
   "version": "0.17.1"
  }
 },
 "nbformat": 4,
 "nbformat_minor": 5
}
