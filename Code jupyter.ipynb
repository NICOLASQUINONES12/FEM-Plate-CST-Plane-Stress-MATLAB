{
 "cells": [
  {
   "cell_type": "markdown",
   "id": "b632bc8e-16f9-46eb-a942-cde4dea75f2d",
   "metadata": {},
   "source": [
    "# A Finite Element Solution for a plate with MATLAB code."
   ]
  },
  {
   "cell_type": "markdown",
   "id": "f7559858-0ec6-43b3-bb7c-a8bfcacd0f8e",
   "metadata": {},
   "source": [
    "The problem is show in the figure 6-16. "
   ]
  },
  {
   "cell_type": "markdown",
   "id": "3431f56f-0699-4eee-a862-4d732e52ada4",
   "metadata": {},
   "source": [
    "![Figure 1](figure1.jpg)"
   ]
  },
  {
   "cell_type": "markdown",
   "id": "746f351a-33d5-477b-ae00-ae0f4c02675e",
   "metadata": {},
   "source": [
    "This problem is show in the chapter 6.5 of the book: *A firts Course in the Finite Element Method* written by Daryl L. Logan. In this \n",
    "chapter a solution is make by subdivided the plate in two CST. The purpose of this project is to make more divisions considering 400 CST and see the results. "
   ]
  },
  {
   "cell_type": "markdown",
   "id": "efd0322e-0c67-4674-85b4-88743fd57250",
   "metadata": {},
   "source": [
    "## Preprocesing "
   ]
  },
  {
   "cell_type": "code",
   "execution_count": 14,
   "id": "b0a4269a-6c74-447a-947b-8c5e8ce07c14",
   "metadata": {},
   "outputs": [
    {
     "name": "stdout",
     "output_type": "stream",
     "text": [
      "\n"
     ]
    }
   ],
   "source": [
    "% Geometry definition\n",
    "\n",
    "% The values are: \n",
    "\n",
    "t = 1; % in\n",
    "E = 30*10^6; %psi\n",
    "v = 0.3; \n",
    "\n",
    "%The mesh is divided in 200 squares, 10 division in the y direction and 20 divisions in the x direction. With this division each rectangle size 1x1 in^2. \n",
    "%At each rectangle the CST is generated joining the lower-left node with the upper-right node of the rectangle. \n",
    "%The vectors for this divisions are defined: \n",
    "\n",
    "x0 = 0;\n",
    "y0 = 0;\n",
    "x1 = 20;\n",
    "y1 = 10; \n",
    "x = linspace(x0,x1,20); \n",
    "y = linspace(y0,y1,10); \n",
    "division = zeros(length(x),length(y));\n"
   ]
  },
  {
   "cell_type": "code",
   "execution_count": null,
   "id": "34d996ae-961d-4f6c-b467-3fb744a503ec",
   "metadata": {},
   "outputs": [],
   "source": []
  }
 ],
 "metadata": {
  "jupytext": {
   "formats": "ipynb,auto:percent"
  },
  "kernelspec": {
   "display_name": "Matlab",
   "language": "matlab",
   "name": "matlab"
  },
  "language_info": {
   "codemirror_mode": "octave",
   "file_extension": ".m",
   "help_links": [
    {
     "text": "MetaKernel Magics",
     "url": "https://metakernel.readthedocs.io/en/latest/source/README.html"
    }
   ],
   "mimetype": "text/x-octave",
   "name": "matlab",
   "version": "0.17.1"
  }
 },
 "nbformat": 4,
 "nbformat_minor": 5
}
