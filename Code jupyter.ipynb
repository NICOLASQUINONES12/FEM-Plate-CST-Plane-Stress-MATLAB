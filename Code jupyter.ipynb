{
 "cells": [
  {
   "cell_type": "markdown",
   "id": "b632bc8e-16f9-46eb-a942-cde4dea75f2d",
   "metadata": {},
   "source": [
    "# A Finite Element Solution for a plate with MATLAB code."
   ]
  },
  {
   "cell_type": "markdown",
   "id": "f7559858-0ec6-43b3-bb7c-a8bfcacd0f8e",
   "metadata": {},
   "source": [
    "The problem is show in the figure 6-16. "
   ]
  },
  {
   "cell_type": "markdown",
   "id": "3431f56f-0699-4eee-a862-4d732e52ada4",
   "metadata": {},
   "source": [
    "![Figure 1](figure1.jpg)"
   ]
  },
  {
   "cell_type": "markdown",
   "id": "746f351a-33d5-477b-ae00-ae0f4c02675e",
   "metadata": {},
   "source": [
    "This problem is show in the chapter 6.5 of the book: *A firts Course in the Finite Element Method* written by Daryl L. Logan. In this \n",
    "chapter a solution is make by subdivided the plate in two CST. The purpose of this project is to make more divisions considering 400 CST and see the results. "
   ]
  },
  {
   "cell_type": "markdown",
   "id": "efd0322e-0c67-4674-85b4-88743fd57250",
   "metadata": {},
   "source": [
    "## Preprocesing "
   ]
  },
  {
   "cell_type": "code",
   "execution_count": 76,
   "id": "b0a4269a-6c74-447a-947b-8c5e8ce07c14",
   "metadata": {},
   "outputs": [
    {
     "name": "stdout",
     "output_type": "stream",
     "text": [
      "\n"
     ]
    }
   ],
   "source": [
    "% Geometry definition \n",
    "\n",
    "%The mesh is divided in n_x*n_y squares, n_x division in the x direction and n_y divisions in the y direction. \n",
    "%At each rectangle the CST is generated joining the lower-left node with the upper-right node of the rectangle. \n",
    "\n",
    "t = 1; % in\n",
    "E = 30*10^6; %psi\n",
    "v = 0.3; \n",
    "n_x = 1; \n",
    "n_y = 1;\n",
    "x0 = 0;\n",
    "y0 = 0;\n",
    "x1 = 20;\n",
    "y1 = 10; \n",
    "x = linspace(x0,x1,n_x+1); \n",
    "y = linspace(y0,y1,n_y+1); \n",
    "\n",
    "%Boundary conditions \n",
    "\n"
   ]
  },
  {
   "cell_type": "markdown",
   "id": "ec30e1fa-0e2a-4944-a666-e97e985b31c5",
   "metadata": {},
   "source": [
    "## Formulation and Assembly "
   ]
  },
  {
   "cell_type": "code",
   "execution_count": 77,
   "id": "0885c24f-a1a8-4694-98d4-bad0b0891aa2",
   "metadata": {
    "lines_to_next_cell": 2
   },
   "outputs": [
    {
     "name": "stdout",
     "output_type": "stream",
     "text": [
      "\n"
     ]
    }
   ],
   "source": [
    "%The local stiffness matrix was coded in the file: \"local_stiffness_matrix.m\"\n",
    "\n",
    "%Assembly \n",
    "\n",
    "%Numeration of nodes\n",
    "%This function enumerate the nodes from left to right starting in the coordinate (1,1)\n",
    "node_numeration = @(i,j) (j-1)*(n_x+1)+i; \n",
    "\n",
    "%Global matrix\n",
    "n_nodes = (n_x+1)*(n_y+1); \n",
    "ndfo = 2*n_nodes; \n",
    "K = sparse(ndfo,ndfo);\n",
    "\n",
    "for i = 1:n_x\n",
    "    for j = 1:n_y\n",
    "        %Local nodes transformed to global nodes numeration \n",
    "        n1 = node_numeration(i,j);\n",
    "        n2 = node_numeration(i+1,j);\n",
    "        n3 = node_numeration(i+1,j+1);\n",
    "        n4 = node_numeration(i,j+1); \n",
    "        \n",
    "        %Nodes coordinates\n",
    "        x1 = x(i); y1 = y(j);\n",
    "        x2 = x(i+1); y2 = y(j);\n",
    "        x3 = x(i+1); y3 = y(j+1);\n",
    "        x4 = x(i); y4 = y(j+1);\n",
    "\n",
    "        %Triangle1: n1(x1,y1), n3(x3,y3), n4(x4,y4) \n",
    "        k1 = local_stiffness_matrix(x1,y1,x3,y3,x4,y4,E,v,t);\n",
    "        \n",
    "        %Degrees of freedom numeration \n",
    "        dfo1 = [2*n1-1,2*n1,2*n3-1,2*n3,2*n4-1,2*n4];\n",
    "        \n",
    "        %Assembly\n",
    "        K(dfo1,dfo1) = K(dfo1,dfo1) + k1;\n",
    "\n",
    "        %Triangle2: n1(x1,y1), n2(x2,y2), n3(x3,y3) \n",
    "        k2 = local_stiffness_matrix(x1,y1,x2,y2,x3,y3,E,v,t);\n",
    "        \n",
    "        %Degrees of freedom numeration \n",
    "        dfo2 = [2*n1-1,2*n1,2*n2-1,2*n2,2*n3-1,2*n3];\n",
    "        \n",
    "        %Assembly\n",
    "        K(dfo2,dfo2) = K(dfo2,dfo2) + k2;\n",
    "    end\n",
    "end"
   ]
  },
  {
   "cell_type": "code",
   "execution_count": 78,
   "id": "fa83ac93-769d-472f-a359-5f63be1563a8",
   "metadata": {},
   "outputs": [
    {
     "name": "stdout",
     "output_type": "stream",
     "text": [
      "\n"
     ]
    }
   ],
   "source": [
    "%{K = full(K);\n",
    "miOrdenColumnas = [1 2 5 6 7 8 3 4];\n",
    "miOrdenFilas = [1 2 5 6 7 8 3 4];\n",
    "K = K(miOrdenFilas, miOrdenColumnas);\n",
    "K = K*(0.91/375000);\n",
    "K;\n",
    "%}"
   ]
  },
  {
   "cell_type": "code",
   "execution_count": null,
   "id": "8e33025c-98d7-4cfc-a098-4bba5fcb221a",
   "metadata": {},
   "outputs": [],
   "source": []
  },
  {
   "cell_type": "code",
   "execution_count": null,
   "id": "88398cbd-688d-4360-95ef-b21241863a96",
   "metadata": {},
   "outputs": [],
   "source": []
  }
 ],
 "metadata": {
  "jupytext": {
   "formats": "ipynb,m:percent"
  },
  "kernelspec": {
   "display_name": "Matlab",
   "language": "matlab",
   "name": "matlab"
  },
  "language_info": {
   "codemirror_mode": "octave",
   "file_extension": ".m",
   "help_links": [
    {
     "text": "MetaKernel Magics",
     "url": "https://metakernel.readthedocs.io/en/latest/source/README.html"
    }
   ],
   "mimetype": "text/x-octave",
   "name": "matlab",
   "version": "0.17.1"
  }
 },
 "nbformat": 4,
 "nbformat_minor": 5
}
